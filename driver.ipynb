{
 "cells": [
  {
   "cell_type": "code",
   "execution_count": 1,
   "metadata": {},
   "outputs": [
    {
     "name": "stderr",
     "output_type": "stream",
     "text": [
      "/home/venky/quantemp_reasoning/experiments/adaptive_decomposition/adaptive_decomp/lib/python3.11/site-packages/tqdm/auto.py:21: TqdmWarning: IProgress not found. Please update jupyter and ipywidgets. See https://ipywidgets.readthedocs.io/en/stable/user_install.html\n",
      "  from .autonotebook import tqdm as notebook_tqdm\n"
     ]
    }
   ],
   "source": [
    "from code_new.dataset.probe import complexity_function_datast\n",
    "import torch\n",
    "from transformers import AutoTokenizer, pipeline, AutoModelForCausalLM\n",
    "from code_new.repe import repe_pipeline_registry\n",
    "from code_new.inferencer.decision_maker import DecisionMaker\n",
    "from sklearn.metrics import classification_report\n",
    "repe_pipeline_registry()"
   ]
  },
  {
   "cell_type": "code",
   "execution_count": 2,
   "metadata": {},
   "outputs": [],
   "source": [
    "# Auxillary import\n",
    "import numpy as np\n",
    "import pandas as pd\n",
    "import json\n",
    "from sklearn.metrics.pairwise import cosine_similarity\n",
    "from scipy.stats import mode\n",
    "import random"
   ]
  },
  {
   "cell_type": "code",
   "execution_count": 3,
   "metadata": {},
   "outputs": [
    {
     "name": "stderr",
     "output_type": "stream",
     "text": [
      "Loading checkpoint shards: 100%|██████████| 2/2 [00:03<00:00,  1.57s/it]\n"
     ]
    }
   ],
   "source": [
    "model_name_or_path = \"mistralai/Mistral-7B-Instruct-v0.1\"\n",
    "\n",
    "model = AutoModelForCausalLM.from_pretrained(model_name_or_path, torch_dtype=torch.float16, device_map=\"auto\")\n",
    "use_fast_tokenizer = \"LlamaForCausalLM\" not in model.config.architectures\n",
    "tokenizer = AutoTokenizer.from_pretrained(model_name_or_path, use_fast=use_fast_tokenizer, padding_side=\"left\",\n",
    "                                          legacy=False)\n",
    "tokenizer.pad_token_id = 0"
   ]
  },
  {
   "cell_type": "code",
   "execution_count": 4,
   "metadata": {},
   "outputs": [
    {
     "name": "stderr",
     "output_type": "stream",
     "text": [
      "Device set to use cuda:0\n"
     ]
    }
   ],
   "source": [
    "rep_token = -1 # Rep token set to -1 for now. \n",
    "hidden_layers = list(range(-1, -model.config.num_hidden_layers, -1)) # list of hidden layers\n",
    "n_difference = 1\n",
    "direction_method = 'pca' # Principal component analysis\n",
    "rep_reading_pipeline = pipeline(\"rep-reading\", model=model, tokenizer=tokenizer) # initiate a pipeline"
   ]
  },
  {
   "cell_type": "code",
   "execution_count": 5,
   "metadata": {},
   "outputs": [],
   "source": [
    "sample_size = 300\n",
    "random_state = 0\n",
    "# random_state = random.randint(0, 100)\n",
    "# print(random_state)\n",
    "dataset = complexity_function_datast(data_path=\"data/quantemp_retrieved_evidence/generated using gpt/train_retrieved_with_gpt.json\", sample_size=sample_size, seed=random_state)"
   ]
  },
  {
   "cell_type": "code",
   "execution_count": 8,
   "metadata": {},
   "outputs": [],
   "source": [
    "# Train a rep reader training data\n",
    "feature_embedding = {}\n",
    "for complexity in [\"simple_claims\", \"intermediate_claims\", \"complex_claims\"]:\n",
    "    feature_embedding[complexity] = rep_reading_pipeline.get_directions(\n",
    "        dataset[complexity],\n",
    "        rep_token=rep_token,\n",
    "        hidden_layers=hidden_layers,\n",
    "        n_difference=n_difference,\n",
    "        direction_method=direction_method,\n",
    "        batch_size=32,\n",
    "        mean_pool = \"mean_pooling\"\n",
    "    ).directions"
   ]
  },
  {
   "cell_type": "markdown",
   "metadata": {},
   "source": [
    "#### Compute complexity of test dataset"
   ]
  },
  {
   "cell_type": "code",
   "execution_count": 9,
   "metadata": {},
   "outputs": [],
   "source": [
    "decision_model = DecisionMaker(feature_embedding=feature_embedding)"
   ]
  },
  {
   "cell_type": "code",
   "execution_count": 10,
   "metadata": {},
   "outputs": [
    {
     "data": {
      "text/plain": [
       "(2495, 31, 4096)"
      ]
     },
     "execution_count": 10,
     "metadata": {},
     "output_type": "execute_result"
    }
   ],
   "source": [
    "test_dataset = complexity_function_datast(data_path=\"data/quantemp_gold/test_claims_quantemp.json\", test = True)\n",
    "test_embedding = rep_reading_pipeline._batched_string_to_hiddens(test_dataset[\"claims\"], rep_token, hidden_layers, batch_size = 32)\n",
    "\n",
    "layer_list = []\n",
    "for layer in test_embedding.keys():\n",
    "    layer_list.append(test_embedding[layer])\n",
    "test_embedding = np.transpose(np.array(layer_list), (1,0,2))\n",
    "test_embedding.shape"
   ]
  },
  {
   "cell_type": "code",
   "execution_count": 11,
   "metadata": {},
   "outputs": [
    {
     "name": "stderr",
     "output_type": "stream",
     "text": [
      "100%|██████████| 2495/2495 [00:13<00:00, 183.90it/s]\n"
     ]
    }
   ],
   "source": [
    "final_decision_list = decision_model.make_decision(test_embedding=test_embedding)"
   ]
  },
  {
   "cell_type": "code",
   "execution_count": 12,
   "metadata": {},
   "outputs": [],
   "source": [
    "unique_elements, counts = np.unique(final_decision_list, return_counts=True)\n",
    "element_counts = dict(zip(unique_elements, counts))"
   ]
  },
  {
   "cell_type": "code",
   "execution_count": 13,
   "metadata": {},
   "outputs": [
    {
     "data": {
      "text/plain": [
       "{0: 2072, 1: 191, 2: 232}"
      ]
     },
     "execution_count": 13,
     "metadata": {},
     "output_type": "execute_result"
    }
   ],
   "source": [
    "element_counts"
   ]
  },
  {
   "cell_type": "code",
   "execution_count": 14,
   "metadata": {},
   "outputs": [],
   "source": [
    "with open(f\"output/gpt_decomp_decision.txt\", \"w\") as fp:\n",
    "    # Convert each element to a string\n",
    "    fp.writelines(f\"{str(item)}\\n\" for item in final_decision_list)\n",
    "    fp.close()"
   ]
  },
  {
   "cell_type": "markdown",
   "metadata": {},
   "source": [
    "#### Some EDA with the assigned complexity"
   ]
  },
  {
   "cell_type": "code",
   "execution_count": 15,
   "metadata": {},
   "outputs": [],
   "source": [
    "# with open(\"output/decomposition_decision_adjusted.txt\", \"r\") as fp:\n",
    "#     decision = [int(item) for item in fp]\n",
    "# fp.close()"
   ]
  },
  {
   "cell_type": "code",
   "execution_count": 16,
   "metadata": {},
   "outputs": [],
   "source": [
    "with open(\"data/quantemp_gold/test_claims_quantemp.json\", \"r\") as fp:\n",
    "    data = pd.DataFrame(json.load(fp))\n",
    "fp.close()\n",
    "data[\"complexity\"] = final_decision_list"
   ]
  },
  {
   "cell_type": "code",
   "execution_count": 33,
   "metadata": {},
   "outputs": [
    {
     "data": {
      "text/plain": [
       "13"
      ]
     },
     "execution_count": 33,
     "metadata": {},
     "output_type": "execute_result"
    }
   ],
   "source": [
    "label = \"True\"\n",
    "len(data[(data[\"complexity\"] == 1) & (data[\"label\"] == label)])"
   ]
  },
  {
   "cell_type": "code",
   "execution_count": null,
   "metadata": {},
   "outputs": [],
   "source": [
    "# with open(\"data/quantemp_retrieved_evidence/train_new_adjusted.json\", \"r\") as fp:\n",
    "#     train_data = pd.DataFrame(json.load(fp))\n",
    "# fp.close()"
   ]
  },
  {
   "cell_type": "code",
   "execution_count": null,
   "metadata": {},
   "outputs": [],
   "source": [
    "# label = \"True\"\n",
    "# len(train_data[(train_data[\"complexity\"] == 2) & (train_data[\"label\"] == label)])"
   ]
  },
  {
   "cell_type": "markdown",
   "metadata": {},
   "source": [
    "#### Data visualization and preparation for training. Ignore/remove later"
   ]
  },
  {
   "cell_type": "code",
   "execution_count": null,
   "metadata": {},
   "outputs": [],
   "source": [
    "# with open(\"data/quantemp_retrieved_evidence/generated using gpt/train_retrieved_with_gpt.json\", \"r\") as fp:\n",
    "#     data = json.load(fp)\n",
    "# fp.close()\n",
    "# for idx, sample in enumerate(data):\n",
    "#     data[idx]['complexity'] = min(sample['complexity'], 2)"
   ]
  },
  {
   "cell_type": "code",
   "execution_count": null,
   "metadata": {},
   "outputs": [],
   "source": [
    "# with open(\"data/quantemp_retrieved_evidence/generated using gpt/train_retrieved_with_gpt.json\", \"w\") as fp:\n",
    "    # json.dump(data, fp, indent=4)"
   ]
  },
  {
   "cell_type": "code",
   "execution_count": null,
   "metadata": {},
   "outputs": [],
   "source": [
    "# complexity = 2\n",
    "# label = \"False\"\n",
    "# len(data[(data[\"complexity\"] == complexity) & (data[\"label\"] == label)])"
   ]
  },
  {
   "cell_type": "code",
   "execution_count": null,
   "metadata": {},
   "outputs": [],
   "source": []
  }
 ],
 "metadata": {
  "kernelspec": {
   "display_name": "adaptive_decomp",
   "language": "python",
   "name": "python3"
  },
  "language_info": {
   "codemirror_mode": {
    "name": "ipython",
    "version": 3
   },
   "file_extension": ".py",
   "mimetype": "text/x-python",
   "name": "python",
   "nbconvert_exporter": "python",
   "pygments_lexer": "ipython3",
   "version": "3.11.4"
  }
 },
 "nbformat": 4,
 "nbformat_minor": 2
}
